{
 "cells": [
  {
   "cell_type": "markdown",
   "id": "823d37ee",
   "metadata": {},
   "source": [
    "# Additional resources\n",
    "\n",
    "## Books\n",
    "\n",
    "- Chen, Daniel Y. (2019). [Pandas for everyone: Python data analysis.](https://www.worldcat.org/title/pandas-for-everyone-python-data-analysis/oclc/1240309883?referer=br&ht=edition)\n",
    "\n",
    "- McKinney, Wes. (2017). [Python for Data Analysis: Data Wrangling with Pandas, NumPy, and IPython.](https://github.com/wesm/pydata-book)\n",
    "\n",
    "- Downey, Allen B. (2015). [Think Python: How to Think Like a Computer Scientist, 2nd Edition.](https://greenteapress.com/wp/think-python-2e/)\n",
    "\n",
    "- VanderPlas, Jake. (2016). [Python Data Science Handbook: Essential tools for working with data.](https://github.com/jakevdp/PythonDataScienceHandbook)\n",
    "\n",
    "## Guides\n",
    "\n",
    "- [Pandas Data Wrangling Cheatsheets](https://pandas.pydata.org/Pandas_Cheat_Sheet.pdf): From the official pandas project.\n",
    "- [Programming Historian Lesson Index](https://programminghistorian.org/en/lessons/): Accessible, easy to read lessons about Python aimed at scholars in the humanities.\n",
    "\n",
    "## Tutorials\n",
    "\n",
    "- [Python Intro for Libraries by Library Carpentry](https://librarycarpentry.org/lc-python-intro/): This lesson is an introduction to programming in Python for librarians with little or no previous programming experience. It uses examples that are relevant to a wide range of library use cases, and is designed to be used as a prerequisite lesson for other Python based lessons that will be developed in the future, e.g. using the Pandas for data analysis.\n",
    "- [Pandas course from Kaggle](https://www.kaggle.com/learn/pandas): Solve short hands-on challenges to perfect your data manipulation skills.\n",
    "- [Google's Python Class](https://developers.google.com/edu/python): A free class from Google for people with a little bit of programming experience who want to learn Python. The class includes written materials, lecture videos, and lots of code exercises to practice Python coding. \n",
    "- [Python for Everybody (PY4E)](https://www.py4e.com/lessons): A very popular introductory course with free materials, lectures, book and assignments to help students learn how to program in Python.\n",
    "- [Data Analysis and Visualization with Python for Social Scientists](https://datacarpentry.org/python-socialsci/): This is an introduction to Python designed for participants with no programming experience. Starts with some basic information about Python syntax, the Jupyter notebook interface, and moves through how to import CSV files, using the pandas package to work with data frames, how to calculate summary information from a data frame, and a brief introduction to plotting.\n",
    "\n",
    "\n"
   ]
  },
  {
   "cell_type": "code",
   "execution_count": null,
   "id": "be00ebe8",
   "metadata": {},
   "outputs": [],
   "source": []
  }
 ],
 "metadata": {
  "kernelspec": {
   "display_name": "Python 3 (ipykernel)",
   "language": "python",
   "name": "python3"
  },
  "language_info": {
   "codemirror_mode": {
    "name": "ipython",
    "version": 3
   },
   "file_extension": ".py",
   "mimetype": "text/x-python",
   "name": "python",
   "nbconvert_exporter": "python",
   "pygments_lexer": "ipython3",
   "version": "3.9.4"
  }
 },
 "nbformat": 4,
 "nbformat_minor": 5
}
