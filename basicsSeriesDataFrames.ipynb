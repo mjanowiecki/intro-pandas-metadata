{
 "cells": [
  {
   "cell_type": "markdown",
   "id": "f6aae91e",
   "metadata": {},
   "source": [
    "(basics-df)=\n",
    "# 1. Basics of `Series` and `DataFrames`\n",
    "\n",
    "## pandas documentation\n",
    "\n",
    "First, I want to give you a quick tour of the [pandas documentation website](https://pandas.pydata.org/pandas-docs/stable/index.html). This documentation is essential to using pandas and I refer back to it literally all the time.\n",
    "\n",
    "[pandas User Guide](https://pandas.pydata.org/pandas-docs/stable/user_guide/index.html): The User Guide covers all of pandas by topic area. Each of the subsections introduces a topic (such as “working with missing data”), and discusses how pandas approaches the problem, with many examples throughout.\n",
    "\n",
    "[pandas API reference](https://pandas.pydata.org/pandas-docs/stable/reference/index.html): This page gives an overview of all public pandas objects, functions and methods.\n",
    "\n",
    "## What is a `DataFrame`?\n",
    "\n",
    "There are two main concepts that are essential to using pandas.\n",
    "\n",
    "The first important concept is a `DataFrame`. In pandas, a `DataFrame` is a table of data organized and accessed by **rows** and **columns**. In many ways, it is equivalent to a basic spreadsheet or CSV file. Here's a visual of what our sampleData.csv looks like as a `DataFrame`.\n",
    "\n",
    "```{admonition} Files\n",
    ":class: important\n",
    "You can {Download}`download sampleData.csv here<./sampleData.csv>`.\n",
    "```\n",
    "\n",
    "```{image} img/dataframe.jpg\n",
    ":alt: Visual of DataFrame\n",
    ":width: 2000px\n",
    ":align: left\n",
    "```\n",
    "\n",
    "**Indexes:**\n",
    "By default, pandas assigns an `index` to every row and every column in a `DataFrame`.\n",
    "\n",
    "The `index` (position) is an integer that starts at 0 and counts up.\n",
    "\n",
    "- 50 rows → row index from 0 to 49\n",
    "\n",
    "- 10 columns → column index from 0 to 9\n",
    "```{hint}\n",
    "When `index` is used generically, it refers to the row index rather than the column index.\n",
    "```\n",
    "For rows, the `index` is typically identical to the row label, but sometimes people change the `index` or row labels to be strings or letters.\n",
    "\n",
    "- 10 rows → row index from A to J\n",
    "\n",
    "**Labels:**\n",
    "\n",
    "- Column labels correspond to the name of each column. They are typically a string, but can be numbers too.\n",
    "- Most of the time, column labels of a `DataFrame` are equivalent to the \"column headers\" (or first row) seen in most spreadsheet editors.\n",
    "- For 4th column in our `DataFrame`, the column index is `3` while the column label is \"creator\".\n",
    "\n",
    "## What is a `Series`?\n",
    "\n",
    "The second important concept is a `Series`. In pandas, a `Series` is equivalent to a column in a CSV or spreadsheet. `DataFrames` are composed of 2 or more `Series`.\n",
    "\n",
    "`Series` also have a row index or label. Here is an example of a `Series` (or column) named \"title\" from sampleData.csv.\n",
    "\n",
    "```{image} img/series.png\n",
    ":alt: Visual of DataFrame\n",
    ":width: 1000px\n",
    ":align: left\n",
    "```"
   ]
  },
  {
   "cell_type": "code",
   "execution_count": null,
   "id": "c3b30ea7",
   "metadata": {},
   "outputs": [],
   "source": []
  },
  {
   "cell_type": "markdown",
   "id": "6872b16d",
   "metadata": {},
   "source": [
    "## Make a `DataFrame`\n",
    "\n",
    "To use pandas, we need to import the library. Typically, pandas is abbreviated as `pd`. "
   ]
  },
  {
   "cell_type": "code",
   "execution_count": 4,
   "id": "dbca2cf2",
   "metadata": {
    "scrolled": true
   },
   "outputs": [],
   "source": [
    "import pandas as pd"
   ]
  },
  {
   "cell_type": "markdown",
   "id": "9373b872",
   "metadata": {},
   "source": [
    "Now, let's use the pandas function `read_csv()` to read sampleData.csv into a `DataFrame`. \n",
    "\n",
    "```{admonition} New function    \n",
    "[`pd.read_csv()`](https://pandas.pydata.org/docs/reference/api/pandas.read_csv.html): Reads a CSV file into a DataFrame.\n",
    "```\n",
    "\n",
    "Let's give our resulting `DataFrame` the commonly used variable name `df`, although we could call it whatever we want. Let's also print `df` to see what it looks like in the terminal."
   ]
  },
  {
   "cell_type": "code",
   "execution_count": 5,
   "id": "ddb24c12",
   "metadata": {
    "scrolled": false,
    "tags": [
     "hide-output",
     "output_scroll"
    ]
   },
   "outputs": [
    {
     "name": "stdout",
     "output_type": "stream",
     "text": [
      "    item_identifier                   advisor                    creator  \\\n",
      "0               1.0        Wolberger, Cynthia          Daniels, Casey M.   \n",
      "1               2.0  Fallin, Margaret Daniele   Collado Torres, Leonardo   \n",
      "2               3.0  Neelon, Sara E. Benjamin        Caswell, Bess L. L.   \n",
      "3               4.0           Roter, Debra L.               Jamal, Leila   \n",
      "4               5.0          Sears, Cynthia L              Rouhani, Saba   \n",
      "..              ...                       ...                        ...   \n",
      "85             86.0           Spall, James  C               Chen, Tianyi   \n",
      "86             87.0              Dredze, Mark             Benton, Adrian   \n",
      "87             87.0              Dredze, Mark             Benton, Adrian   \n",
      "88             88.0       Andreou, Andreas  G      Fischl, Kate Danielle   \n",
      "89             89.0            Shpitser, Ilya  Nabi Abdolyousefi, Razieh   \n",
      "\n",
      "   date_issued                                              title  \\\n",
      "0   2015-07-31  Characterization of the ADP-ribosylated proteo...   \n",
      "1   2016-07-25  Annotation-Agnostic Differential Expression an...   \n",
      "2   2016-09-07  Child diet over three seasons in rural Zambia:...   \n",
      "3   2017-02-02  Exploring Parental Involvement in Rare Disease...   \n",
      "4   2018-05-23  Gut Microbes, Enteropathy and Child Growth: Th...   \n",
      "..         ...                                                ...   \n",
      "85  2018-08-20  A Fast Reduced-Space Algorithmic Framework for...   \n",
      "86  2018-10-25     Learning Representations of Social Media Users   \n",
      "87  2018-10-25     Learning Representations of Social Media Users   \n",
      "88  2019-05-13  Neuromorphic Models of the Amygdala with Appli...   \n",
      "89  2021-03-29  Causal Inference Methods For Bias Correction I...   \n",
      "\n",
      "                        degree_discipline  \\\n",
      "0                            Biochemistry   \n",
      "1                           Biostatistics   \n",
      "2                         Human Nutrition   \n",
      "3                               Bioethics   \n",
      "4   Global Disease Epidemiology & Control   \n",
      "..                                    ...   \n",
      "85                            Mathematics   \n",
      "86                       Computer Science   \n",
      "87                       Computer Science   \n",
      "88                   Computer Engineering   \n",
      "89                       Computer Science   \n",
      "\n",
      "                                       degree_grantor  \\\n",
      "0   Johns Hopkins University. Bloomberg School of ...   \n",
      "1   Johns Hopkins University. Bloomberg School of ...   \n",
      "2   Johns Hopkins University. Bloomberg School of ...   \n",
      "3   Johns Hopkins University. Bloomberg School of ...   \n",
      "4   Johns Hopkins University. Bloomberg School of ...   \n",
      "..                                                ...   \n",
      "85  Johns Hopkins University. Whiting School of En...   \n",
      "86  Johns Hopkins University. Whiting School of En...   \n",
      "87  Johns Hopkins University. Whiting School of En...   \n",
      "88  Johns Hopkins University. Whiting School of En...   \n",
      "89  Johns Hopkins University. Whiting School of En...   \n",
      "\n",
      "                      degree_department  \\\n",
      "0    Biochemistry and Molecular Biology   \n",
      "1                         Biostatistics   \n",
      "2                  International Health   \n",
      "3          Health Policy and Management   \n",
      "4                  International Health   \n",
      "..                                  ...   \n",
      "85   Applied Mathematics and Statistics   \n",
      "86                     Computer Science   \n",
      "87                     Computer Science   \n",
      "88  Electrical and Computer Engineering   \n",
      "89                     Computer Science   \n",
      "\n",
      "                                     committee_member  contributor_author  \n",
      "0   Leung, Anthony K. L.|Matunis, Michael J.|Dingl...                 NaN  \n",
      "1   Leek, Jeffrey T.|Hansen, Kasper D.|Battle, Ale...                 NaN  \n",
      "2   West, Keith P., Jr.|Talegawkar, Sameera|Fanzo,...                 NaN  \n",
      "3   Kass, Nancy E.|Saloner, Brendan|Bodurtha, Joan...                 NaN  \n",
      "4   Kosek, Margaret  N|Dowdy, David W|Sack, David ...                 NaN  \n",
      "..                                                ...                 ...  \n",
      "85   Basu, Amitabh|Curtis, Frank E|Robinson, Daniel P                 NaN  \n",
      "86            Arora, Raman|Yarowsky, David|Hovy, Dirk                 NaN  \n",
      "87            Arora, Raman|Yarowsky, David|Hovy, Dirk                 NaN  \n",
      "88  Etienne-Cummings, Ralph|Sarma, Sridevi|Pouliqu...                 NaN  \n",
      "89  Scharfstein, Daniel|Tchetgen Tchetgen, Eric|Og...                 NaN  \n",
      "\n",
      "[90 rows x 10 columns]\n"
     ]
    }
   ],
   "source": [
    "filename = 'sampleData.csv'\n",
    "df = pd.read_csv(filename)\n",
    "print(df)"
   ]
  },
  {
   "cell_type": "markdown",
   "id": "f831bd3a",
   "metadata": {},
   "source": [
    "While this doesn't print out every row or column of df, it helps us see the overall structure of the `DataFrame`. pandas also has many useful functions to help get a closer look at your data. Let's try some!\n",
    "\n",
    "```{admonition} New function\n",
    "[`pd.read_json()`](https://pandas.pydata.org/docs/reference/api/pandas.read_json.html): Converts a JSON string to a DataFrame or Series.\n",
    "```\n",
    "```{admonition} New function\n",
    "[`pd.read_excel()`](https://pandas.pydata.org/docs/reference/api/pandas.read_excel.html): Reads an Excel file into a DataFrame.\n",
    "```\n",
    "```{admonition} New function\n",
    "[`pd.read_sql()`](https://pandas.pydata.org/docs/reference/api/pandas.read_sql.html): Reads SQL database table into a DataFrame.\n",
    "```\n",
    "```{admonition} New function\n",
    "[`pd.from_dict()`](https://pandas.pydata.org/docs/reference/api/pandas.DataFrame.from_dict.html): Creates a  DataFrame from dictionary or an array of dictionaries.\n",
    "```\n",
    "\n",
    "## View your `DataFrame`\n",
    "\n",
    "Sometimes it's nice to get an overview of your data without having to scroll through a bunch of rows. `head()` and `tail()` are really great for this. \n",
    "\n",
    "Use `head()` on your `DataFrame` to see the first 5 rows with column labels, and use `tail()` to see the last 5 rows with column labels. You can change the number of rows by putting a different value in the parentheses.\n",
    "\n",
    "```{admonition} New function\n",
    "[`df.head()`](https://pandas.pydata.org/docs/reference/api/pandas.DataFrame.head.html): Returns the first n rows of the DataFrame.\n",
    "```\n",
    "```{admonition} New function\n",
    "[`df.tail()`](https://pandas.pydata.org/docs/reference/api/pandas.DataFrame.tail.html): Returns the last n rows of the DataFrame.\n",
    "```"
   ]
  },
  {
   "cell_type": "code",
   "execution_count": 6,
   "id": "07ae2689",
   "metadata": {
    "scrolled": false,
    "tags": [
     "hide-output",
     "output_scroll"
    ]
   },
   "outputs": [
    {
     "name": "stdout",
     "output_type": "stream",
     "text": [
      "   item_identifier                   advisor                   creator  \\\n",
      "0              1.0        Wolberger, Cynthia         Daniels, Casey M.   \n",
      "1              2.0  Fallin, Margaret Daniele  Collado Torres, Leonardo   \n",
      "2              3.0  Neelon, Sara E. Benjamin       Caswell, Bess L. L.   \n",
      "3              4.0           Roter, Debra L.              Jamal, Leila   \n",
      "4              5.0          Sears, Cynthia L             Rouhani, Saba   \n",
      "\n",
      "  date_issued                                              title  \\\n",
      "0  2015-07-31  Characterization of the ADP-ribosylated proteo...   \n",
      "1  2016-07-25  Annotation-Agnostic Differential Expression an...   \n",
      "2  2016-09-07  Child diet over three seasons in rural Zambia:...   \n",
      "3  2017-02-02  Exploring Parental Involvement in Rare Disease...   \n",
      "4  2018-05-23  Gut Microbes, Enteropathy and Child Growth: Th...   \n",
      "\n",
      "                       degree_discipline  \\\n",
      "0                           Biochemistry   \n",
      "1                          Biostatistics   \n",
      "2                        Human Nutrition   \n",
      "3                              Bioethics   \n",
      "4  Global Disease Epidemiology & Control   \n",
      "\n",
      "                                      degree_grantor  \\\n",
      "0  Johns Hopkins University. Bloomberg School of ...   \n",
      "1  Johns Hopkins University. Bloomberg School of ...   \n",
      "2  Johns Hopkins University. Bloomberg School of ...   \n",
      "3  Johns Hopkins University. Bloomberg School of ...   \n",
      "4  Johns Hopkins University. Bloomberg School of ...   \n",
      "\n",
      "                    degree_department  \\\n",
      "0  Biochemistry and Molecular Biology   \n",
      "1                       Biostatistics   \n",
      "2                International Health   \n",
      "3        Health Policy and Management   \n",
      "4                International Health   \n",
      "\n",
      "                                    committee_member  contributor_author  \n",
      "0  Leung, Anthony K. L.|Matunis, Michael J.|Dingl...                 NaN  \n",
      "1  Leek, Jeffrey T.|Hansen, Kasper D.|Battle, Ale...                 NaN  \n",
      "2  West, Keith P., Jr.|Talegawkar, Sameera|Fanzo,...                 NaN  \n",
      "3  Kass, Nancy E.|Saloner, Brendan|Bodurtha, Joan...                 NaN  \n",
      "4  Kosek, Margaret  N|Dowdy, David W|Sack, David ...                 NaN  \n"
     ]
    }
   ],
   "source": [
    "print(df.head())"
   ]
  },
  {
   "cell_type": "code",
   "execution_count": 7,
   "id": "ebc2aac5",
   "metadata": {
    "scrolled": false,
    "tags": [
     "hide-output",
     "output_scroll"
    ]
   },
   "outputs": [
    {
     "name": "stdout",
     "output_type": "stream",
     "text": [
      "    item_identifier                 advisor                    creator  \\\n",
      "78             79.0  Chirikjian, Gregory S.    Ackerman, Martin Kendal   \n",
      "79             80.0        Prince, Jerry L.                 Uneri, Ali   \n",
      "80             81.0      Whitcomb, Louis L.           Bohren, Jonathan   \n",
      "81             82.0                     NaN              Tao, Lingling   \n",
      "82             83.0     Braverman, Vladimir                  Yang, Lin   \n",
      "83             84.0       Kazanzides, Peter                Chen, Zihan   \n",
      "84             85.0       Gayme, Dennice F.         Hameduddin, Ismail   \n",
      "85             86.0         Spall, James  C               Chen, Tianyi   \n",
      "86             87.0            Dredze, Mark             Benton, Adrian   \n",
      "87             87.0            Dredze, Mark             Benton, Adrian   \n",
      "88             88.0     Andreou, Andreas  G      Fischl, Kate Danielle   \n",
      "89             89.0          Shpitser, Ilya  Nabi Abdolyousefi, Razieh   \n",
      "\n",
      "   date_issued                                              title  \\\n",
      "78  2016-02-18  Design and Calibration of Robotic Systems with...   \n",
      "79  2017-01-12  Imaging and registration for surgical guidance...   \n",
      "80  2017-01-26  Intent-Recognition-Based Traded Control for Te...   \n",
      "81  2017-02-26  Learning Discriminative Feature Representation...   \n",
      "82  2017-10-09                       Taming Big Data By Streaming   \n",
      "83  2017-10-27  A Scalable, High-Performance, Real-Time Contro...   \n",
      "84  2018-02-26                   Tackling viscoelastic turbulence   \n",
      "85  2018-08-20  A Fast Reduced-Space Algorithmic Framework for...   \n",
      "86  2018-10-25     Learning Representations of Social Media Users   \n",
      "87  2018-10-25     Learning Representations of Social Media Users   \n",
      "88  2019-05-13  Neuromorphic Models of the Amygdala with Appli...   \n",
      "89  2021-03-29  Causal Inference Methods For Bias Correction I...   \n",
      "\n",
      "         degree_discipline                                     degree_grantor  \\\n",
      "78                Robotics  Johns Hopkins University. Whiting School of En...   \n",
      "79        Computer Science  Johns Hopkins University. Whiting School of En...   \n",
      "80                Robotics  Johns Hopkins University. Whiting School of En...   \n",
      "81        Computer Science  Johns Hopkins University. Whiting School of En...   \n",
      "82        Computer Science  Johns Hopkins University. Whiting School of En...   \n",
      "83        Computer Science  Johns Hopkins University. Whiting School of En...   \n",
      "84  Mechanical Engineering  Johns Hopkins University. Whiting School of En...   \n",
      "85             Mathematics  Johns Hopkins University. Whiting School of En...   \n",
      "86        Computer Science  Johns Hopkins University. Whiting School of En...   \n",
      "87        Computer Science  Johns Hopkins University. Whiting School of En...   \n",
      "88    Computer Engineering  Johns Hopkins University. Whiting School of En...   \n",
      "89        Computer Science  Johns Hopkins University. Whiting School of En...   \n",
      "\n",
      "                      degree_department  \\\n",
      "78               Mechanical Engineering   \n",
      "79                     Computer Science   \n",
      "80               Mechanical Engineering   \n",
      "81  Electrical and Computer Engineering   \n",
      "82                     Computer Science   \n",
      "83                     Computer Science   \n",
      "84               Mechanical Engineering   \n",
      "85   Applied Mathematics and Statistics   \n",
      "86                     Computer Science   \n",
      "87                     Computer Science   \n",
      "88  Electrical and Computer Engineering   \n",
      "89                     Computer Science   \n",
      "\n",
      "                                     committee_member  contributor_author  \n",
      "78  Boctor, Emad M.|Shiffman, Bernard|Whitcomb, Lo...                 NaN  \n",
      "79  Siewerdsen, Jeffrey H.|Taylor, Russell H.|Woli...                 NaN  \n",
      "80                   Kazanzides, Peter|Leonard, Simon                 NaN  \n",
      "81  Vidal, Rene|Khudanpur, Sanjeev P.|Tran, Trac D...                 NaN  \n",
      "82  Szalay, Alexander S.|Priebe, Carey E.|Basu, Am...                 NaN  \n",
      "83              Taylor, Russell H.|Whitcomb, Louis L.                 NaN  \n",
      "84                Meneveau, Charles V.|Zaki, Tamer A.                 NaN  \n",
      "85   Basu, Amitabh|Curtis, Frank E|Robinson, Daniel P                 NaN  \n",
      "86            Arora, Raman|Yarowsky, David|Hovy, Dirk                 NaN  \n",
      "87            Arora, Raman|Yarowsky, David|Hovy, Dirk                 NaN  \n",
      "88  Etienne-Cummings, Ralph|Sarma, Sridevi|Pouliqu...                 NaN  \n",
      "89  Scharfstein, Daniel|Tchetgen Tchetgen, Eric|Og...                 NaN  \n"
     ]
    }
   ],
   "source": [
    "print(df.tail(12))"
   ]
  },
  {
   "cell_type": "markdown",
   "id": "a5324c81",
   "metadata": {},
   "source": [
    "Pandas also offers many properties to understand your `DataFrame`. Let's try them out. \n",
    "\n",
    "```{admonition} New function\n",
    "[`df.columns`](https://pandas.pydata.org/docs/reference/api/pandas.DataFrame.columns.html): Returns the column labels of the DataFrame.\n",
    "```\n",
    "```{admonition} New function\n",
    "[`df.shape`](https://pandas.pydata.org/docs/reference/api/pandas.DataFrame.shape.html): Returns a tuple (rows, columns) representing the DataFrame.\n",
    "```\n",
    "```{admonition} New function\n",
    "[`df.empty`](https://pandas.pydata.org/docs/reference/api/pandas.DataFrame.empty.html): Indicates if the DataFrame is empty.\n",
    "```"
   ]
  },
  {
   "cell_type": "code",
   "execution_count": 8,
   "id": "6659a584",
   "metadata": {
    "scrolled": true,
    "tags": [
     "hide-output"
    ]
   },
   "outputs": [
    {
     "name": "stdout",
     "output_type": "stream",
     "text": [
      "Index(['item_identifier', 'advisor', 'creator', 'date_issued', 'title',\n",
      "       'degree_discipline', 'degree_grantor', 'degree_department',\n",
      "       'committee_member', 'contributor_author'],\n",
      "      dtype='object')\n",
      "(90, 10)\n",
      "False\n"
     ]
    }
   ],
   "source": [
    "print(df.columns)\n",
    "print(df.shape)\n",
    "print(df.empty)"
   ]
  },
  {
   "cell_type": "markdown",
   "id": "39e0296a",
   "metadata": {},
   "source": [
    "When we printed `df.columns`, we got a list of 10 column labels.\n",
    "\n",
    "When we printed `df.shape`, we got the result `(90, 10)`. This means our `DataFrame` has 90 rows and 10 columns.\n",
    "\n",
    "When we printed `df.empty`, we got the result `False`. This means our `DataFrame` is NOT empty.\n",
    "\n",
    "## Access a row\n",
    "\n",
    "There are two main way to access a row. The first is by using `.loc[]`, which grabs a row by its **label**. \n",
    "\n",
    "Typically, the index label is the same as the row integer (but not always, remember you can change the index labels to be anything you want). The default row index starts at 0, and counts up by 1. Let's access the 11th row.\n",
    "\n",
    "```{admonition} New function\n",
    "[`df.loc[]`](https://pandas.pydata.org/docs/reference/api/pandas.DataFrame.loc.html): Access a group of rows and columns by label(s) or a boolean array.\n",
    "```"
   ]
  },
  {
   "cell_type": "code",
   "execution_count": 9,
   "id": "e1b2baff",
   "metadata": {
    "scrolled": false,
    "tags": [
     "hide-output"
    ]
   },
   "outputs": [
    {
     "name": "stdout",
     "output_type": "stream",
     "text": [
      "item_identifier                                                    11.0\n",
      "advisor                                             Passey, Benjamin H.\n",
      "creator                                          Henkes, Gregory Arthur\n",
      "date_issued                                                  2014-09-22\n",
      "title                 Carbonate clumped isotope geochemistry of mari...\n",
      "degree_discipline                            Earth & Planetary Sciences\n",
      "degree_grantor        Johns Hopkins University. Krieger School of Ar...\n",
      "degree_department                          Earth and Planetary Sciences\n",
      "committee_member                                         Ferry, John M.\n",
      "contributor_author                                                  NaN\n",
      "Name: 10, dtype: object\n"
     ]
    }
   ],
   "source": [
    "row_10 = df.loc[10]\n",
    "print(row_10)"
   ]
  },
  {
   "cell_type": "markdown",
   "id": "b970e9bb",
   "metadata": {},
   "source": [
    "The second way to access a row is by using `.iloc[]`, which grabs a row by its **integer**. \n",
    "\n",
    "The row integer will remain the same regardless of your index labels. Rows integers always start at 0, and count up by 1. Let's access the 11th row.\n",
    "\n",
    "```{admonition} New function\n",
    "[`df.iloc[]`](https://pandas.pydata.org/docs/reference/api/pandas.DataFrame.loc.html): Purely integer-location based indexing for selection by position.\n",
    "```   "
   ]
  },
  {
   "cell_type": "code",
   "execution_count": 10,
   "id": "5c795b16",
   "metadata": {
    "scrolled": false,
    "tags": [
     "hide-output"
    ]
   },
   "outputs": [
    {
     "name": "stdout",
     "output_type": "stream",
     "text": [
      "item_identifier                                                    11.0\n",
      "advisor                                             Passey, Benjamin H.\n",
      "creator                                          Henkes, Gregory Arthur\n",
      "date_issued                                                  2014-09-22\n",
      "title                 Carbonate clumped isotope geochemistry of mari...\n",
      "degree_discipline                            Earth & Planetary Sciences\n",
      "degree_grantor        Johns Hopkins University. Krieger School of Ar...\n",
      "degree_department                          Earth and Planetary Sciences\n",
      "committee_member                                         Ferry, John M.\n",
      "contributor_author                                                  NaN\n",
      "Name: 10, dtype: object\n"
     ]
    }
   ],
   "source": [
    "row_10 = df.iloc[10]\n",
    "print(row_10)"
   ]
  },
  {
   "cell_type": "markdown",
   "id": "d03c1f8a",
   "metadata": {},
   "source": [
    "You can also grab sections of rows using both of these functions. Guess what rows each function will bring up.<br>\n",
    "\n",
    "```{hint}\n",
    "These work a lot like list indexing!\n",
    "```"
   ]
  },
  {
   "cell_type": "code",
   "execution_count": 11,
   "id": "7121facb",
   "metadata": {
    "scrolled": false,
    "tags": [
     "hide-output",
     "output_scroll"
    ]
   },
   "outputs": [
    {
     "name": "stdout",
     "output_type": "stream",
     "text": [
      "    item_identifier              advisor                    creator  \\\n",
      "30             31.0    Schleif, Robert F        Martens, Andrew Ted   \n",
      "31             32.0                  NaN                   You, Can   \n",
      "32             33.0       Poole, Deborah          Reyna, Zachary E.   \n",
      "33             34.0    Swartz, Morris L.                  Feng, Lei   \n",
      "34             35.0       Eyink, Gregory             Wang, Shengwen   \n",
      "35             36.0                  NaN  O'Briain, Katarina Louisa   \n",
      "36             37.0           Bowen, Kit         Marquez, Sara Anne   \n",
      "37             38.0        Kaplan, Jared              Chen, Hongbin   \n",
      "38             39.0      Riess, Adam  G.            Huang, Caroline   \n",
      "39             40.0    Williams, Michael       Wilk, Thomas Michael   \n",
      "40             41.0  Nealon, Christopher       Huttner, Tobias Reed   \n",
      "\n",
      "   date_issued                                              title  \\\n",
      "30  2017-07-19  Synonymous codons affect polysome spacing, pro...   \n",
      "31  2017-07-23  Higgs Boson Properties and Search for Addition...   \n",
      "32  2017-08-24  The Matter of Law: Reconsidering the Natural L...   \n",
      "33  2018-01-30  Measurement of t-tbar Forward-backward Asymmet...   \n",
      "34  2018-05-07  Some properties of closed hypersurfaces of sma...   \n",
      "35  2018-07-10  Trade Secrets: Georgic Poetry and the Rise of ...   \n",
      "36  2018-09-17  Experimental and Theoretical Explorations of A...   \n",
      "37  2019-07-05     On Black Hole Information Paradox in AdS3/CFT2   \n",
      "38  2019-09-25                            The Mira Distance Scale   \n",
      "39  2019-10-21  Metaethics for Neo-Pragmatists: A Pragmatic Ac...   \n",
      "40  2020-06-22  On Occasion: American Poetry at the Margins of...   \n",
      "\n",
      "    degree_discipline                                     degree_grantor  \\\n",
      "30            Biology  Johns Hopkins University. Krieger School of Ar...   \n",
      "31            Physics  Johns Hopkins University. Krieger School of Ar...   \n",
      "32  Political Science  Johns Hopkins University. Krieger School of Ar...   \n",
      "33            Physics  Johns Hopkins University. Krieger School of Ar...   \n",
      "34        Mathematics  Johns Hopkins University. Krieger School of Ar...   \n",
      "35            English  Johns Hopkins University. Krieger School of Ar...   \n",
      "36          Chemistry  Johns Hopkins University. Krieger School of Ar...   \n",
      "37            Physics  Johns Hopkins University. Krieger School of Ar...   \n",
      "38            Physics  Johns Hopkins University. Krieger School of Ar...   \n",
      "39         Philosophy  Johns Hopkins University. Krieger School of Ar...   \n",
      "40            English  Johns Hopkins University. Krieger School of Ar...   \n",
      "\n",
      "        degree_department                                   committee_member  \\\n",
      "30                Biology    Hilser, Vincent J|Green, Rachel|Roberts, Elijah   \n",
      "31  Physics and Astronomy  Gritsan, Andrei|Blumenfeld, Barry J.|Schlaufma...   \n",
      "32      Political Science  Culbert, Jennifer|Bennett, Jane|Connolly, Will...   \n",
      "33  Physics and Astronomy  Gritsan, Andrei|Schlaufman, Kevin C.|Lu, Fei|S...   \n",
      "34            Mathematics  Bernstein, Jacob|Kazhdan, Misha|Sogge, Christo...   \n",
      "35                English  Kramnick, Jonathan|Favret, Mary|Achinstein, Sh...   \n",
      "36              Chemistry                      Toscano, John|Townsend, Craig   \n",
      "37  Physics and Astronomy  Bah, Ibrahima|Basu, Amitabh|Kitchloo, Nitu|Li, Yi   \n",
      "38  Physics and Astronomy  Kamionkowski, Marc|Schlaufman, Kevin|Sabbi, El...   \n",
      "39             Philosophy  Bok, Hilary|Moyar, Dean|Lance, Mark|Egginton, ...   \n",
      "40                English  Hickman, Jared|Walters, Ronald G|Chambers, Sam...   \n",
      "\n",
      "    contributor_author  \n",
      "30                 NaN  \n",
      "31                 NaN  \n",
      "32                 NaN  \n",
      "33                 NaN  \n",
      "34                 NaN  \n",
      "35                 NaN  \n",
      "36                 NaN  \n",
      "37                 NaN  \n",
      "38                 NaN  \n",
      "39                 NaN  \n",
      "40                 NaN  \n"
     ]
    }
   ],
   "source": [
    "print(df.iloc[30:41])"
   ]
  },
  {
   "cell_type": "code",
   "execution_count": 12,
   "id": "f87e6541",
   "metadata": {
    "scrolled": false,
    "tags": [
     "hide-output"
    ]
   },
   "outputs": [
    {
     "name": "stdout",
     "output_type": "stream",
     "text": [
      "    item_identifier             advisor              creator date_issued  \\\n",
      "0               1.0  Wolberger, Cynthia    Daniels, Casey M.  2015-07-31   \n",
      "30             31.0   Schleif, Robert F  Martens, Andrew Ted  2017-07-19   \n",
      "60             61.0        Tung, Leslie       Gorospe, Giann  2017-10-27   \n",
      "\n",
      "                                                title       degree_discipline  \\\n",
      "0   Characterization of the ADP-ribosylated proteo...            Biochemistry   \n",
      "30  Synonymous codons affect polysome spacing, pro...                 Biology   \n",
      "60  Shape Theoretic and Machine Learning Based Met...  Biomedical Engineering   \n",
      "\n",
      "                                       degree_grantor  \\\n",
      "0   Johns Hopkins University. Bloomberg School of ...   \n",
      "30  Johns Hopkins University. Krieger School of Ar...   \n",
      "60       Johns Hopkins University. School of Medicine   \n",
      "\n",
      "                     degree_department  \\\n",
      "0   Biochemistry and Molecular Biology   \n",
      "30                             Biology   \n",
      "60              Biomedical Engineering   \n",
      "\n",
      "                                     committee_member  contributor_author  \n",
      "0   Leung, Anthony K. L.|Matunis, Michael J.|Dingl...                 NaN  \n",
      "30    Hilser, Vincent J|Green, Rachel|Roberts, Elijah                 NaN  \n",
      "60                        Vidal, Rene|Younes, Laurent                 NaN  \n"
     ]
    }
   ],
   "source": [
    "print(df.iloc[[0, 30, 60]])"
   ]
  },
  {
   "cell_type": "markdown",
   "id": "60819bea",
   "metadata": {},
   "source": [
    "❓ **What's up with the extra brackets in `df.iloc[[0, 30, 60]]`** ❓\n",
    "\n",
    "To make sure that the function is taking your list of rows as a list --not as 3 distinct parameters-- you've got to put your values in a list bracket. The example below gives the same result, and hopefully helps to show how we get double brackets when putting a list in `.iloc[]`."
   ]
  },
  {
   "cell_type": "code",
   "execution_count": 13,
   "id": "d857fdf5",
   "metadata": {
    "scrolled": false,
    "tags": [
     "hide-output"
    ]
   },
   "outputs": [
    {
     "name": "stdout",
     "output_type": "stream",
     "text": [
      "    item_identifier             advisor              creator date_issued  \\\n",
      "0               1.0  Wolberger, Cynthia    Daniels, Casey M.  2015-07-31   \n",
      "30             31.0   Schleif, Robert F  Martens, Andrew Ted  2017-07-19   \n",
      "60             61.0        Tung, Leslie       Gorospe, Giann  2017-10-27   \n",
      "\n",
      "                                                title       degree_discipline  \\\n",
      "0   Characterization of the ADP-ribosylated proteo...            Biochemistry   \n",
      "30  Synonymous codons affect polysome spacing, pro...                 Biology   \n",
      "60  Shape Theoretic and Machine Learning Based Met...  Biomedical Engineering   \n",
      "\n",
      "                                       degree_grantor  \\\n",
      "0   Johns Hopkins University. Bloomberg School of ...   \n",
      "30  Johns Hopkins University. Krieger School of Ar...   \n",
      "60       Johns Hopkins University. School of Medicine   \n",
      "\n",
      "                     degree_department  \\\n",
      "0   Biochemistry and Molecular Biology   \n",
      "30                             Biology   \n",
      "60              Biomedical Engineering   \n",
      "\n",
      "                                     committee_member  contributor_author  \n",
      "0   Leung, Anthony K. L.|Matunis, Michael J.|Dingl...                 NaN  \n",
      "30    Hilser, Vincent J|Green, Rachel|Roberts, Elijah                 NaN  \n",
      "60                        Vidal, Rene|Younes, Laurent                 NaN  \n"
     ]
    }
   ],
   "source": [
    "rowsToGrab = [0, 30, 60]\n",
    "print(df.iloc[rowsToGrab])"
   ]
  },
  {
   "cell_type": "markdown",
   "id": "d7dac95e",
   "metadata": {},
   "source": [
    "## Access a Series\n",
    "\n",
    "There are two main ways to access a specific column (also known as a `Series`) by its label in a `DataFrame`. \n",
    "\n",
    "1. Dot notation\n",
    "   - Uses the column label as a property of the `DataFrame`.\n",
    "   - Example: `df.column_name`\n",
    "2. Bracket notation\n",
    "   - Places column label string in brackets to select part of the `DataFrame`.\n",
    "   - Example: `df['column_name']`\n",
    "\n",
    "Let's try both options."
   ]
  },
  {
   "cell_type": "code",
   "execution_count": 14,
   "id": "74e57e62",
   "metadata": {
    "scrolled": true,
    "tags": [
     "hide-output"
    ]
   },
   "outputs": [
    {
     "name": "stdout",
     "output_type": "stream",
     "text": [
      "0                              Biochemistry\n",
      "1                             Biostatistics\n",
      "2                           Human Nutrition\n",
      "3                                 Bioethics\n",
      "4     Global Disease Epidemiology & Control\n",
      "                      ...                  \n",
      "85                              Mathematics\n",
      "86                         Computer Science\n",
      "87                         Computer Science\n",
      "88                     Computer Engineering\n",
      "89                         Computer Science\n",
      "Name: degree_discipline, Length: 90, dtype: object\n"
     ]
    }
   ],
   "source": [
    "degree_discipline = df.degree_discipline\n",
    "print(degree_discipline)"
   ]
  },
  {
   "cell_type": "code",
   "execution_count": 15,
   "id": "9120b082",
   "metadata": {
    "scrolled": true,
    "tags": [
     "hide-output"
    ]
   },
   "outputs": [
    {
     "name": "stdout",
     "output_type": "stream",
     "text": [
      "0                              Biochemistry\n",
      "1                             Biostatistics\n",
      "2                           Human Nutrition\n",
      "3                                 Bioethics\n",
      "4     Global Disease Epidemiology & Control\n",
      "                      ...                  \n",
      "85                              Mathematics\n",
      "86                         Computer Science\n",
      "87                         Computer Science\n",
      "88                     Computer Engineering\n",
      "89                         Computer Science\n",
      "Name: degree_discipline, Length: 90, dtype: object\n"
     ]
    }
   ],
   "source": [
    "degree_discipline = df['degree_discipline']\n",
    "print(degree_discipline)"
   ]
  },
  {
   "cell_type": "markdown",
   "id": "493ef1c0",
   "metadata": {},
   "source": [
    "In most cases, both notations work equally well! Sometimes though, dot notation will fail. If that happens, just switch to bracket notation. \n",
    "\n",
    "## Access a specific cell\n",
    "\n",
    "There are also a bunch of ways to look at a specific cell -- here's some!\n",
    "\n",
    "We can add a column label (2nd parameter value) to `.loc[]` to grab a cell value by its index label and column name."
   ]
  },
  {
   "cell_type": "code",
   "execution_count": 16,
   "id": "44070c0d",
   "metadata": {
    "scrolled": true,
    "tags": [
     "hide-output"
    ]
   },
   "outputs": [
    {
     "name": "stdout",
     "output_type": "stream",
     "text": [
      "Spanish\n"
     ]
    }
   ],
   "source": [
    "print(df.loc[9, 'degree_discipline'])"
   ]
  },
  {
   "cell_type": "markdown",
   "id": "aa816f45",
   "metadata": {},
   "source": [
    "We can also add a column integer (second parameter value) to `.iloc[]` to grab a cell value by its row integer position and its column integer position. \n",
    "\n",
    "```{hint}\n",
    "To figure out the integer of your column, start counting at 0 at the leftmost column.\n",
    "```"
   ]
  },
  {
   "cell_type": "code",
   "execution_count": 17,
   "id": "8065bcec",
   "metadata": {
    "scrolled": true,
    "tags": [
     "hide-output"
    ]
   },
   "outputs": [
    {
     "name": "stdout",
     "output_type": "stream",
     "text": [
      "Spanish\n"
     ]
    }
   ],
   "source": [
    "print(df.iloc[9, 5])"
   ]
  },
  {
   "cell_type": "markdown",
   "id": "43e29cd3",
   "metadata": {},
   "source": [
    "We can also use `iat[]` and `at[]` to view a single cell.\n",
    "\n",
    "```{admonition} New function\n",
    "[`df.iat[]`](https://pandas.pydata.org/pandas-docs/stable/reference/api/pandas.DataFrame.iat.html): Access single value by index.\n",
    "```\n",
    "```{admonition} New function\n",
    "[`df.at[]`](https://pandas.pydata.org/pandas-docs/stable/reference/api/pandas.DataFrame.at.html): Access single value by label.\n",
    "``` "
   ]
  },
  {
   "cell_type": "code",
   "execution_count": 18,
   "id": "8de87849",
   "metadata": {
    "scrolled": true,
    "tags": [
     "hide-output"
    ]
   },
   "outputs": [
    {
     "name": "stdout",
     "output_type": "stream",
     "text": [
      "Spanish\n",
      "Spanish\n"
     ]
    }
   ],
   "source": [
    "print(df.at[9, 'degree_discipline'])\n",
    "print(df.iat[9,5])"
   ]
  },
  {
   "cell_type": "markdown",
   "id": "cae33769",
   "metadata": {},
   "source": [
    "## Get descriptive stats\n",
    "\n",
    "There are also many functions in pandas to get computational or descriptive stats about your Series or DataFrames. Here's a quick look at my two favorites (check out the full lists for [Series](https://pandas.pydata.org/docs/reference/series.html#computations-descriptive-stats) and [DataFrames](https://pandas.pydata.org/docs/reference/frame.html#computations-descriptive-stats) here).\n",
    "\n",
    "\n",
    "```{admonition} New function\n",
    "[`df[].unique()`](https://pandas.pydata.org/pandas-docs/dev/reference/api/pandas.Series.unique.html): Returns unique values of Series.\n",
    "```\n",
    "```{admonition} New function\n",
    "[`df[].value_counts()`](https://pandas.pydata.org/pandas-docs/dev/reference/api/pandas.Series.value_counts.html): Returns Series containing counts of unique value in column.      \n",
    "```"
   ]
  },
  {
   "cell_type": "code",
   "execution_count": 20,
   "id": "3813c433",
   "metadata": {
    "scrolled": true,
    "tags": [
     "hide-output",
     "output_scroll"
    ]
   },
   "outputs": [
    {
     "name": "stdout",
     "output_type": "stream",
     "text": [
      "['Biochemistry and Molecular Biology' 'Biostatistics'\n",
      " 'International Health' 'Health Policy and Management'\n",
      " 'German and Romance Languages and Literatures' 'Anthropology'\n",
      " 'Political Science' 'Earth and Planetary Sciences' 'Sociology'\n",
      " 'Chemistry' 'Physics and Astronomy' 'Mathematics' 'Chemical Biology'\n",
      " 'Biology' 'History' 'English' 'Philosophy'\n",
      " 'Psychological and Brain Sciences' 'Molecular Biology and Genetics'\n",
      " 'Neuroscience' nan 'Oncology' 'Biomedical Engineering'\n",
      " 'Functional Anatomy and Evolution'\n",
      " 'Biochemistry, Cellular and Molecular Biology'\n",
      " 'McKusick-Nathans Institute of Genetic Medicine' 'Biological Chemistry'\n",
      " 'Cellular and Molecular Medicine' 'Physiology' 'Cell Biology'\n",
      " 'Community-Public Health' 'Applied Mathematics and Statistics'\n",
      " 'Electrical and Computer Engineering' 'Mechanical Engineering'\n",
      " 'Computer Science' 'Chemical and Biomolecular Engineering'\n",
      " 'Geography and Environmental Engineering']\n",
      "['Biochemistry and Molecular Biology', 'Biostatistics', 'International Health', 'Health Policy and Management', 'German and Romance Languages and Literatures', 'Anthropology', 'Political Science', 'Earth and Planetary Sciences', 'Sociology', 'Chemistry', 'Physics and Astronomy', 'Mathematics', 'Chemical Biology', 'Biology', 'History', 'English', 'Philosophy', 'Psychological and Brain Sciences', 'Molecular Biology and Genetics', 'Neuroscience', nan, 'Oncology', 'Biomedical Engineering', 'Functional Anatomy and Evolution', 'Biochemistry, Cellular and Molecular Biology', 'McKusick-Nathans Institute of Genetic Medicine', 'Biological Chemistry', 'Cellular and Molecular Medicine', 'Physiology', 'Cell Biology', 'Community-Public Health', 'Applied Mathematics and Statistics', 'Electrical and Computer Engineering', 'Mechanical Engineering', 'Computer Science', 'Chemical and Biomolecular Engineering', 'Geography and Environmental Engineering']\n"
     ]
    }
   ],
   "source": [
    "department_unique = df['degree_department'].unique()\n",
    "print(department_unique)\n",
    "\n",
    "unique_list = list(department_unique)\n",
    "print(unique_list)"
   ]
  },
  {
   "cell_type": "code",
   "execution_count": 21,
   "id": "fdcf4af6",
   "metadata": {
    "scrolled": true,
    "tags": [
     "hide-output",
     "output_scroll"
    ]
   },
   "outputs": [
    {
     "name": "stdout",
     "output_type": "stream",
     "text": [
      "Computer Science                                  8\n",
      "Physics and Astronomy                             7\n",
      "German and Romance Languages and Literatures      5\n",
      "Biology                                           5\n",
      "Chemistry                                         5\n",
      "Neuroscience                                      4\n",
      "Mathematics                                       4\n",
      "Mechanical Engineering                            4\n",
      "Political Science                                 4\n",
      "McKusick-Nathans Institute of Genetic Medicine    4\n",
      "English                                           3\n",
      "Electrical and Computer Engineering               3\n",
      "Earth and Planetary Sciences                      3\n",
      "International Health                              2\n",
      "Anthropology                                      2\n",
      "Community-Public Health                           2\n",
      "Biomedical Engineering                            2\n",
      "Biochemistry and Molecular Biology                2\n",
      "Psychological and Brain Sciences                  2\n",
      "Applied Mathematics and Statistics                2\n",
      "Chemical and Biomolecular Engineering             1\n",
      "Cellular and Molecular Medicine                   1\n",
      "Physiology                                        1\n",
      "Sociology                                         1\n",
      "Health Policy and Management                      1\n",
      "Biostatistics                                     1\n",
      "Functional Anatomy and Evolution                  1\n",
      "Molecular Biology and Genetics                    1\n",
      "History                                           1\n",
      "Geography and Environmental Engineering           1\n",
      "Oncology                                          1\n",
      "Cell Biology                                      1\n",
      "Philosophy                                        1\n",
      "Biological Chemistry                              1\n",
      "Chemical Biology                                  1\n",
      "Biochemistry, Cellular and Molecular Biology      1\n",
      "Name: degree_department, dtype: int64\n"
     ]
    }
   ],
   "source": [
    "department_counts = df['degree_department'].value_counts()\n",
    "print(department_counts)"
   ]
  },
  {
   "cell_type": "code",
   "execution_count": null,
   "id": "9a7853fe",
   "metadata": {
    "scrolled": true
   },
   "outputs": [],
   "source": []
  }
 ],
 "metadata": {
  "celltoolbar": "Tags",
  "kernelspec": {
   "display_name": "Python 3 (ipykernel)",
   "language": "python",
   "name": "python3"
  },
  "language_info": {
   "codemirror_mode": {
    "name": "ipython",
    "version": 3
   },
   "file_extension": ".py",
   "mimetype": "text/x-python",
   "name": "python",
   "nbconvert_exporter": "python",
   "pygments_lexer": "ipython3",
   "version": "3.9.4"
  }
 },
 "nbformat": 4,
 "nbformat_minor": 5
}
